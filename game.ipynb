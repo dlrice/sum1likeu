{
 "cells": [
  {
   "cell_type": "code",
   "execution_count": 3,
   "metadata": {},
   "outputs": [],
   "source": [
    "from collections import defaultdict\n",
    "from random import choice, randint, random\n",
    "import time"
   ]
  },
  {
   "cell_type": "code",
   "execution_count": 4,
   "metadata": {},
   "outputs": [],
   "source": [
    "operand_range = list(range(1, 11))"
   ]
  },
  {
   "cell_type": "code",
   "execution_count": 5,
   "metadata": {},
   "outputs": [],
   "source": [
    "# class AnswerHistory(self):\n",
    "#     def __init__(self):"
   ]
  },
  {
   "cell_type": "code",
   "execution_count": 6,
   "metadata": {},
   "outputs": [],
   "source": [
    "class Player:\n",
    "    def __init__(self):\n",
    "        self.history = defaultdict(list)\n",
    "    \n",
    "    def update(self, question, answer):\n",
    "        self.history[question].append(answer)\n",
    "        \n",
    "    def answer(self, question):\n",
    "        if question in self.history:\n",
    "            return choice(self.history[question])\n",
    "        else:\n",
    "            return Answer(choice(operand_range), 5*(1 + random()))\n",
    "    \n",
    "    def __repr__(self):\n",
    "        return '\\n'.join([f'{question}: {\" \".join([str(answer) for answer in answers])}' for question, answers in self.history.items()])"
   ]
  },
  {
   "cell_type": "code",
   "execution_count": 7,
   "metadata": {},
   "outputs": [],
   "source": [
    "class Answer:\n",
    "    def __init__(self, answer, time_taken):\n",
    "        self.answer = answer\n",
    "        self.time_taken = time_taken\n",
    "        \n",
    "    def __repr__(self):\n",
    "        return f'{self.answer} in {self.time_taken:0.3f}s'"
   ]
  },
  {
   "cell_type": "code",
   "execution_count": 22,
   "metadata": {},
   "outputs": [],
   "source": [
    "class Question:\n",
    "    def __init__(self, operation, first_operand, second_operand):\n",
    "        self.operation = operation\n",
    "        self.first_operand = first_operand\n",
    "        self.second_operand = second_operand\n",
    "    \n",
    "    def __repr__(self):\n",
    "        return ' '.join([\n",
    "            str(self.first_operand),\n",
    "            self.operation,\n",
    "            str(self.second_operand)\n",
    "        ])\n",
    "    \n",
    "    def __eq__(self, other):\n",
    "        return self.__hash__() == hash(other)\n",
    "    \n",
    "    def get_answer(self):\n",
    "        return eval(str(self))\n",
    "    \n",
    "    def is_attempt_correct(self, attempt):\n",
    "        return self.get_answer() == attempt\n",
    "    \n",
    "    def __hash__(self):\n",
    "        return hash((self.operation, *sorted((self.first_operand, self.second_operand))))"
   ]
  },
  {
   "cell_type": "code",
   "execution_count": 9,
   "metadata": {},
   "outputs": [],
   "source": [
    "class QuestionGenerator:\n",
    "    def __init__(self, operation, main_operand=None, min_operand=None, max_operand=None):\n",
    "        self.operation = operation\n",
    "        if main_operand:\n",
    "            self.main_operand = main_operand\n",
    "        else:\n",
    "            self.operand_range = list(range(self.min_operand, max_operand + 1))\n",
    "    \n",
    "    def get(self):\n",
    "        second_operand = choice(operand_range)\n",
    "        if self.main_operand:\n",
    "            return Question(self.operation, self.main_operand, second_operand)\n",
    "        else:\n",
    "            return Question(self.operation, choice(operand_range), second_operand)"
   ]
  },
  {
   "cell_type": "code",
   "execution_count": 10,
   "metadata": {},
   "outputs": [],
   "source": [
    "class TrainingSession:\n",
    "    def __init__(self, player, n_questions, operation, main_operand=None, min_operand=None, max_operand=None):\n",
    "        self.n_questions = n_questions\n",
    "        self.questionGenerator = QuestionGenerator(operation, main_operand, min_operand, max_operand)\n",
    "        self.player = player\n",
    "    \n",
    "    def train(self):\n",
    "        for i in range(self.n_questions):\n",
    "            question = self.questionGenerator.get()\n",
    "            t0 = time.time()\n",
    "            answer = int(input(f'{question} = '))\n",
    "            t1 = time.time()\n",
    "            correct = question.is_attempt_correct(answer)\n",
    "            time_taken = t1 - t0\n",
    "            self.player.update(question, Answer(answer, time_taken))\n",
    "            print('Correct' if correct else 'Wrong', f'in {time_taken:0.3f}s')"
   ]
  },
  {
   "cell_type": "code",
   "execution_count": 11,
   "metadata": {},
   "outputs": [],
   "source": [
    "class Competition:\n",
    "    def __init__(self, player1, player2, n_questions, operation, operand):\n",
    "        self.player1 = player1\n",
    "        self.player2 = player2\n",
    "        self.n_questions = n_questions\n",
    "        self.questionGenerator = QuestionGenerator(operation, operand)\n",
    "\n",
    "    def compete(self):\n",
    "        for i in range(self.n_questions):\n",
    "            question = self.questionGenerator.get()\n",
    "            print(question)\n",
    "            player1_answer = self.player1.answer(question)\n",
    "            player2_answer = self.player2.answer(question)\n",
    "            player1_answer.answer\n",
    "            \n",
    "            print('Player 1:', a1, '| Player 2:', a2)"
   ]
  },
  {
   "cell_type": "code",
   "execution_count": 12,
   "metadata": {},
   "outputs": [],
   "source": [
    "p1 = Player()\n",
    "p2 = Player()"
   ]
  },
  {
   "cell_type": "code",
   "execution_count": 19,
   "metadata": {},
   "outputs": [
    {
     "data": {
      "text/plain": [
       "defaultdict(list,\n",
       "            {2 * 8: [16 in 3.026s],\n",
       "             2 * 5: [10 in 2.040s],\n",
       "             2 * 2: [4 in 1.214s, 4 in 1.120s]})"
      ]
     },
     "execution_count": 19,
     "metadata": {},
     "output_type": "execute_result"
    }
   ],
   "source": [
    "p1.history"
   ]
  },
  {
   "cell_type": "code",
   "execution_count": 13,
   "metadata": {},
   "outputs": [
    {
     "name": "stdout",
     "output_type": "stream",
     "text": [
      "2 * 8 = 16\n",
      "Correct in 3.026s\n",
      "2 * 5 = 10\n",
      "Correct in 2.040s\n",
      "2 * 2 = 4\n",
      "Correct in 1.214s\n",
      "2 * 2 = 4\n",
      "Correct in 1.120s\n"
     ]
    }
   ],
   "source": [
    "TrainingSession(p1, 4, '*', 2).train()"
   ]
  },
  {
   "cell_type": "code",
   "execution_count": 14,
   "metadata": {},
   "outputs": [
    {
     "name": "stdout",
     "output_type": "stream",
     "text": [
      "2 * 6 = 12\n",
      "Correct in 1.206s\n",
      "2 * 7 = 14\n",
      "Correct in 1.685s\n",
      "2 * 3 = 6\n",
      "Correct in 1.371s\n",
      "2 * 1 = 2\n",
      "Correct in 0.943s\n"
     ]
    }
   ],
   "source": [
    "TrainingSession(p2, 4, '*', 2).train()"
   ]
  },
  {
   "cell_type": "code",
   "execution_count": 15,
   "metadata": {},
   "outputs": [],
   "source": [
    "c = Competition(p1, p2, 4, '*', 2)"
   ]
  },
  {
   "cell_type": "code",
   "execution_count": 16,
   "metadata": {},
   "outputs": [
    {
     "name": "stdout",
     "output_type": "stream",
     "text": [
      "2 * 9\n",
      "Player 1: 10 in 7.522s | Player 2: 2 in 8.614s\n",
      "2 * 2\n",
      "Player 1: 4 in 1.214s | Player 2: 3 in 8.850s\n",
      "2 * 5\n",
      "Player 1: 10 in 2.040s | Player 2: 1 in 7.161s\n",
      "2 * 10\n",
      "Player 1: 9 in 5.997s | Player 2: 7 in 9.019s\n"
     ]
    }
   ],
   "source": [
    "c.compete()"
   ]
  },
  {
   "cell_type": "code",
   "execution_count": null,
   "metadata": {},
   "outputs": [],
   "source": []
  }
 ],
 "metadata": {
  "kernelspec": {
   "display_name": "Python 3",
   "language": "python",
   "name": "python3"
  },
  "language_info": {
   "codemirror_mode": {
    "name": "ipython",
    "version": 3
   },
   "file_extension": ".py",
   "mimetype": "text/x-python",
   "name": "python",
   "nbconvert_exporter": "python",
   "pygments_lexer": "ipython3",
   "version": "3.7.6"
  }
 },
 "nbformat": 4,
 "nbformat_minor": 4
}
